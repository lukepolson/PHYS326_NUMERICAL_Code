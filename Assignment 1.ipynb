{
 "cells": [
  {
   "cell_type": "code",
   "execution_count": 1,
   "metadata": {},
   "outputs": [],
   "source": [
    "import numpy as np\n",
    "from scipy.integrate import quad\n",
    "from scipy.integrate import quad_vec\n",
    "import matplotlib.pyplot as plt\n",
    "plt.style.use(['science','notebook'])"
   ]
  },
  {
   "cell_type": "markdown",
   "metadata": {},
   "source": [
    "# Assignment"
   ]
  },
  {
   "cell_type": "markdown",
   "metadata": {},
   "source": [
    "## Question\n",
    "\n",
    "A charge density is given by\n",
    "\n",
    "$$\\rho(r, \\theta, z) = \\rho_0 R^2 \\delta(r-R)\\delta(z)\\sin(\\theta) $$\n",
    "\n",
    "where $(r, \\theta, z)$ are cylindrical coordinates. This charge density should be interpretted as a ring of charge where the top portion is positively charged and the bottom portion is negatively charged. Plot the x and y components of the electric field as a function of $x$ in the range $(-R/2, R/2)$ at $y=R/2$ and $z=0$. \n",
    "\n",
    "* Put each plot on a seperate canvas.\n",
    "* *Hint: This question is very closely linked to the tutorial problems.*"
   ]
  },
  {
   "cell_type": "markdown",
   "metadata": {},
   "source": [
    "## Answer\n",
    "\n",
    "We have (where $\\mathscr{r} = \\vec{r} - \\vec{r}'$)\n",
    "\n",
    "\\begin{align*}\n",
    "4 \\pi \\epsilon_0 \\vec{E} &= \\iiint \\frac{\\rho(\\vec{r}')}{|\\mathscr{r}|^{3}}\\vec{\\mathscr{r}} d\\tau \\\\\n",
    "&= \\iiint \\frac{\\rho_0 R^2 \\sin(\\theta')\\delta(r'-R) \\delta(z')}{((x-r'\\cos\\theta')^2+(y-r'\\sin\\theta')^2+(z-z')^2)^{3/2}} \\begin{pmatrix}\n",
    "           x-r'\\cos(\\theta') \\\\\n",
    "           y-r'\\sin\\theta' \\\\\n",
    "           z-z'\n",
    "         \\end{pmatrix}r'dr'd\\theta'dz'\\\\\n",
    "&= \\int_{0}^{2 \\pi} \\frac{\\rho_0 R^2 \\sin(\\theta')}{((x-R\\cos\\theta')^2+(y-R\\sin\\theta')^2+z^2)^{3/2}}\\begin{pmatrix}\n",
    "           x-R\\cos(\\theta') \\\\\n",
    "           y-R\\sin\\theta' \\\\\n",
    "           z\n",
    "         \\end{pmatrix} R d\\theta'       \n",
    "\\end{align*}\n",
    "\n",
    "You are asked to consider both the x-component and the y-components of the electric field at $y=R/2$, $z=0$ and $x: -R/2 \\to R/2$. For now we will just do the x-component. Note that we have unknown variables ($\\rho_0$ and $R$) so we're going to have to plot something different then just $E_x$ itself (see tutorial question 3)\n",
    "\n",
    "$$4 \\pi \\epsilon_0 E_x  = \\int_{0}^{2 \\pi} \\frac{\\rho_0 R^2 \\sin(\\theta')(xR-R^2\\cos\\theta')}{((x-R\\cos\\theta')^2+(y-R\\sin\\theta')^2+z^2)^{3/2}} d\\theta'$$\n",
    "\n",
    "We want to obtain things like $x/R$ and $y/R$ in the integral so we can perform a numerical integration when $y/R=1/2$ and $x/R: -1/2 \\to 1/2$. The problem is we need to multiply the numerator of the integrand by $1/R^4$ and the denominator by $1/R^3$ to get our integral in this form. We can do this as long as we also divide the left hand side of the expression by $R$. We also divide by $\\rho_0$ to remove it from the integral. In this case we get\n",
    "\n",
    "$$\\left(\\frac{4 \\pi \\epsilon_0}{\\rho_0 R}\\right) E_x  = \\int_{0}^{2 \\pi} \\frac{\\sin(\\theta')((x/R)-\\cos\\theta')}{((x/R-\\cos\\theta')^2+(y/R-\\sin\\theta')^2+(z/R)^2)^{3/2}} d\\theta'$$\n",
    "\n",
    "Now we can numerically integrate the right hand side since we have numerical values for $x/R$, $y/R$ and $z/R$. "
   ]
  },
  {
   "cell_type": "code",
   "execution_count": 2,
   "metadata": {},
   "outputs": [],
   "source": [
    "def integrand(theta, x, y, z):\n",
    "    return (np.sin(theta)*(x-np.cos(theta)))/((x-np.cos(theta))**2+(y-np.sin(theta))**2+z**2)**(3/2)\n",
    "def integral(x,y,z):\n",
    "    return quad(integrand, 0, 2*np.pi, args=(x,y,z))[0]"
   ]
  },
  {
   "cell_type": "markdown",
   "metadata": {},
   "source": [
    "Get numerical arrays to plot."
   ]
  },
  {
   "cell_type": "code",
   "execution_count": 3,
   "metadata": {},
   "outputs": [],
   "source": [
    "x = np.linspace(-1/2, 1/2, 1000)\n",
    "E_x = [integral(x_i, 1/2, 0) for x_i in x]"
   ]
  },
  {
   "cell_type": "markdown",
   "metadata": {},
   "source": [
    "Do plotting."
   ]
  },
  {
   "cell_type": "code",
   "execution_count": 4,
   "metadata": {},
   "outputs": [
    {
     "data": {
      "image/png": "[encoded data removed]",
      "text/plain": [
       "<Figure size 432x288 with 1 Axes>"
      ]
     },
     "metadata": {
      "needs_background": "light"
     },
     "output_type": "display_data"
    }
   ],
   "source": [
    "plt.plot(x,E_x)\n",
    "plt.xlabel('x', fontsize=16)\n",
    "plt.ylabel(r'$(4 \\pi \\epsilon_0/\\rho_0 R)E_x$', fontsize=16)\n",
    "plt.title('x-Component of Electric Field', fontsize=16)\n",
    "plt.grid()"
   ]
  },
  {
   "cell_type": "markdown",
   "metadata": {},
   "source": [
    "## Aside"
   ]
  },
  {
   "cell_type": "markdown",
   "metadata": {},
   "source": [
    "Note the following difference:\n",
    "\n",
    "* Tutorial problem 3: Plot $\\left(\\frac{4 \\pi \\epsilon_0 R^2}{q}\\right) \\cdot \\text{Electric Field}$\n",
    "* Assignment: Plot $\\left(\\frac{4 \\pi \\epsilon_0}{\\rho_0 R}\\right) \\cdot \\text{Electric Field}$\n",
    "\n",
    "Note that both are dimensionless quantities."
   ]
  }
 ],
 "metadata": {
  "kernelspec": {
   "display_name": "Python 3",
   "language": "python",
   "name": "python3"
  },
  "language_info": {
   "codemirror_mode": {
    "name": "ipython",
    "version": 3
   },
   "file_extension": ".py",
   "mimetype": "text/x-python",
   "name": "python",
   "nbconvert_exporter": "python",
   "pygments_lexer": "ipython3",
   "version": "3.7.3"
  }
 },
 "nbformat": 4,
 "nbformat_minor": 2
}
