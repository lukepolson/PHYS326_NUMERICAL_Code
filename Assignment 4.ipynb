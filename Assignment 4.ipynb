{
 "cells": [
  {
   "cell_type": "code",
   "execution_count": 1,
   "metadata": {},
   "outputs": [],
   "source": [
    "import numpy as np\n",
    "import matplotlib.pyplot as plt\n",
    "from matplotlib import animation\n",
    "from mpl_toolkits.mplot3d import Axes3D  # noqa: F401 unused import\n",
    "from matplotlib import cm\n",
    "import matplotlib as mpl\n",
    "mpl.rc('animation', html='jshtml')\n",
    "#plt.style.use(['science','notebook'])"
   ]
  },
  {
   "cell_type": "markdown",
   "metadata": {},
   "source": [
    "# Tutorial"
   ]
  },
  {
   "cell_type": "markdown",
   "metadata": {},
   "source": [
    "The purpose of this tutorial is to\n",
    "\n",
    "* Show how to use the implict central method to solve Laplace's equation in 2D\n",
    "* To show how to make surface plots in python\n",
    "* To show how to make animated GIFs in python"
   ]
  },
  {
   "cell_type": "markdown",
   "metadata": {},
   "source": [
    "Consider the boundary conditions of the following 2D potential $V(x,y)$ in the square $x \\in [-a, a]$ and $y \\in [-a, a]$\n",
    "\n",
    "* $V(x, a) = V_0 \\cos (\\frac{\\pi}{2}\\frac{x}{a})$\n",
    "* $V(x, -a) = V_0 (\\frac{x}{a})^4$\n",
    "* $V(a, y) = V_0 \\frac{1}{e^{-1}-e}(e^{x/a}-e)$\n",
    "* $V(-a, y) = \\frac{1}{2}((x/a)^2+(x/a))$\n",
    "\n",
    "Use the implicit central method to find the potential $V(x,y)$ in the square and make a surface plot"
   ]
  },
  {
   "cell_type": "markdown",
   "metadata": {},
   "source": [
    "## Answer"
   ]
  },
  {
   "cell_type": "markdown",
   "metadata": {},
   "source": [
    "There are four edges to the square in question. First we create an array of 100 points which we will use to contruct the potential at the edges. "
   ]
  },
  {
   "cell_type": "code",
   "execution_count": null,
   "metadata": {},
   "outputs": [],
   "source": []
  },
  {
   "cell_type": "markdown",
   "metadata": {},
   "source": [
    "Now we create 1D arrays of the potential at each edge. They are constructed in order of how they are defined in the problem"
   ]
  },
  {
   "cell_type": "code",
   "execution_count": null,
   "metadata": {},
   "outputs": [],
   "source": []
  },
  {
   "cell_type": "markdown",
   "metadata": {},
   "source": [
    "We can plot the potential at each edge in a 1D plot"
   ]
  },
  {
   "cell_type": "code",
   "execution_count": null,
   "metadata": {
    "scrolled": true
   },
   "outputs": [],
   "source": []
  },
  {
   "cell_type": "markdown",
   "metadata": {},
   "source": [
    "Now we get into the implicit central method. First we create a 100x100 2D array which we will use for the potential. We initialize all values to zero. We also create a meshgrid."
   ]
  },
  {
   "cell_type": "code",
   "execution_count": null,
   "metadata": {},
   "outputs": [],
   "source": []
  },
  {
   "cell_type": "markdown",
   "metadata": {},
   "source": [
    "Then we define the potential at the edges using numpy's slicing features. After the code below is run, All the edges of the box will be defined with the right potential."
   ]
  },
  {
   "cell_type": "code",
   "execution_count": null,
   "metadata": {},
   "outputs": [],
   "source": []
  },
  {
   "cell_type": "markdown",
   "metadata": {},
   "source": [
    "Below is the implicit central method. We now need to fill in the inner part of the 2D array. To do this, we use\n",
    "\n",
    "$$V(x_i, y_j) = \\frac{1}{4}(V(x_{i+1}, y_{j}) + V(x_{i-1}, y_{j}) + V(x_{i}, y_{j+1}) + V(x_{i}, y_{j-1})) $$\n",
    "\n",
    "We do this for all values of $i$ and $j$. That procedure is considered to be 1 iteration. If we do this for many iterations, the potential is guarenteed to converge to the true potential given by $\\nabla^2 V = 0$ with the appropriate boundary conditions. Here we do it for 10000 iterations."
   ]
  },
  {
   "cell_type": "code",
   "execution_count": 2,
   "metadata": {},
   "outputs": [],
   "source": [
    "# Method 1"
   ]
  },
  {
   "cell_type": "code",
   "execution_count": 3,
   "metadata": {},
   "outputs": [],
   "source": [
    "# Method 2"
   ]
  },
  {
   "cell_type": "markdown",
   "metadata": {},
   "source": [
    "Now create an animated gif of what the potential looks like. Animation in python is slightly complicated. Note that we have two functions defined\n",
    "\n",
    "* `init()`: This function is called at the beginning of the animation and is only called once. It sets up the plot with all appropriate labels.\n",
    "* `animate()`: animate takes in one argument: the frame of the animation which we call `i`. It then alters the figure using the parameter `i`.\n",
    "\n",
    "Below these two functions we use matplotlib's animation function. We pass in the names of the two function defined above. We set it to 180 frames total (don't worry about the `interval` argument for now). Finally, when the animation is saved, we specify the frames per second (fps) of the animation."
   ]
  },
  {
   "cell_type": "code",
   "execution_count": null,
   "metadata": {},
   "outputs": [],
   "source": []
  },
  {
   "cell_type": "markdown",
   "metadata": {},
   "source": [
    "# Assignment"
   ]
  },
  {
   "cell_type": "markdown",
   "metadata": {},
   "source": [
    "Perhaps a simpler version of the problem above where they have to solve it by hand using sep. of variables. Then they find the solution using\n",
    "\n",
    "(i) Using sep. of variables get a summation of terms. Then numerically plot the surface using the sum of the terms <br>\n",
    "(ii) Use the method discussed in the tutorial.\n",
    "\n",
    "Show methods (i) and (ii) are equal."
   ]
  },
  {
   "cell_type": "code",
   "execution_count": null,
   "metadata": {},
   "outputs": [],
   "source": []
  }
 ],
 "metadata": {
  "kernelspec": {
   "display_name": "Python 3",
   "language": "python",
   "name": "python3"
  },
  "language_info": {
   "codemirror_mode": {
    "name": "ipython",
    "version": 3
   },
   "file_extension": ".py",
   "mimetype": "text/x-python",
   "name": "python",
   "nbconvert_exporter": "python",
   "pygments_lexer": "ipython3",
   "version": "3.7.3"
  }
 },
 "nbformat": 4,
 "nbformat_minor": 2
}
