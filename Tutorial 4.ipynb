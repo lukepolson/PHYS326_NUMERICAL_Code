{
 "cells": [
  {
   "cell_type": "markdown",
   "metadata": {},
   "source": [
    "# Tutorial 4"
   ]
  },
  {
   "cell_type": "markdown",
   "metadata": {},
   "source": [
    "See https://lukepolson.github.io/PHYS326_NUMERICAL/04-tutorial4/index.html"
   ]
  },
  {
   "cell_type": "markdown",
   "metadata": {},
   "source": [
    "## Question 1"
   ]
  },
  {
   "cell_type": "markdown",
   "metadata": {},
   "source": [
    "Consider the boundary conditions of the following 2D potential $V(x,y)$ in the square $x \\in [-a, a]$ and $y \\in [-a, a]$\n",
    "\n",
    "* $V(x, a) = V_0 \\cos (\\frac{\\pi}{2}\\frac{x}{a})$\n",
    "* $V(x, -a) = V_0 (\\frac{x}{a})^4$\n",
    "* $V(a, y) = V_0 \\frac{1}{e^{-1}-e}(e^{x/a}-e)$\n",
    "* $V(-a, y) = \\frac{1}{2}((x/a)^2+(x/a))$\n",
    "\n",
    "Use the implicit central method to find the potential $V(x,y)$ in the square and make a surface plot"
   ]
  },
  {
   "cell_type": "code",
   "execution_count": null,
   "metadata": {},
   "outputs": [],
   "source": []
  },
  {
   "cell_type": "markdown",
   "metadata": {},
   "source": [
    "## Question 2"
   ]
  },
  {
   "cell_type": "markdown",
   "metadata": {},
   "source": [
    "Make an animated gif of the surface plot above."
   ]
  },
  {
   "cell_type": "code",
   "execution_count": null,
   "metadata": {},
   "outputs": [],
   "source": []
  }
 ],
 "metadata": {
  "kernelspec": {
   "display_name": "Python 3",
   "language": "python",
   "name": "python3"
  },
  "language_info": {
   "codemirror_mode": {
    "name": "ipython",
    "version": 3
   },
   "file_extension": ".py",
   "mimetype": "text/x-python",
   "name": "python",
   "nbconvert_exporter": "python",
   "pygments_lexer": "ipython3",
   "version": "3.7.3"
  }
 },
 "nbformat": 4,
 "nbformat_minor": 2
}
