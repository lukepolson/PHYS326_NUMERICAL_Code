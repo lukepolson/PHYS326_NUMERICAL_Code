{
 "cells": [
  {
   "cell_type": "markdown",
   "metadata": {},
   "source": [
    "# Tutorial"
   ]
  },
  {
   "cell_type": "markdown",
   "metadata": {},
   "source": [
    "See https://lukepolson.github.io/PHYS326_NUMERICAL/01-tutorial1/index.html"
   ]
  },
  {
   "cell_type": "markdown",
   "metadata": {},
   "source": [
    "## Part 1"
   ]
  },
  {
   "cell_type": "markdown",
   "metadata": {},
   "source": [
    "### Question\n",
    "\n",
    "Consider the function \n",
    "\n",
    "$$f(x,y) = e^{-y}\\sin(x)$$\n",
    "\n",
    "Plot \n",
    "1. $f(x, 1)$ vs. $x$ for $x$ in the interval $(-4\\pi, 4\\pi)$\n",
    "2. $f(\\pi/2, y)$ vs. $y$ for $y$ in the interval $(-3, 3)$"
   ]
  },
  {
   "cell_type": "code",
   "execution_count": null,
   "metadata": {},
   "outputs": [],
   "source": []
  },
  {
   "cell_type": "markdown",
   "metadata": {},
   "source": [
    "## Part 2"
   ]
  },
  {
   "cell_type": "markdown",
   "metadata": {},
   "source": [
    "### Question\n",
    "Consider the function\n",
    "\n",
    "$$f(x,y) = \\int_{0}^{2 \\pi} \\frac{\\sin(\\theta) \\cdot (x-\\cos(\\theta))}{((x-\\cos(\\theta))^2+(y-\\sin(\\theta))^2)^{3/2}} d\\theta $$\n",
    "\n",
    "1. Write a program to find $f(x,y)$ for arbitrary valuea of $x$ and $y$\n",
    "2. Plot $f(x,1/2)$ vs. $x$ for $x$ in the interval $(-2, 2)$"
   ]
  },
  {
   "cell_type": "code",
   "execution_count": null,
   "metadata": {},
   "outputs": [],
   "source": []
  },
  {
   "cell_type": "markdown",
   "metadata": {},
   "source": [
    "## Part 3"
   ]
  },
  {
   "cell_type": "markdown",
   "metadata": {},
   "source": [
    "### Question\n",
    "\n",
    "Consider the formula for the magnitude of the electric field from a point charge at the origin:\n",
    "\n",
    "$$|\\vec{E}| = \\frac{1}{4 \\pi \\epsilon_0} \\frac{q}{r^2} $$\n",
    "\n",
    "Plot the magnitude of the electric field as a function of $x$ in the range $(-2R, 2R)$ when $y=R$ and $z=0$."
   ]
  },
  {
   "cell_type": "code",
   "execution_count": null,
   "metadata": {},
   "outputs": [],
   "source": []
  }
 ],
 "metadata": {
  "kernelspec": {
   "display_name": "Python 3",
   "language": "python",
   "name": "python3"
  },
  "language_info": {
   "codemirror_mode": {
    "name": "ipython",
    "version": 3
   },
   "file_extension": ".py",
   "mimetype": "text/x-python",
   "name": "python",
   "nbconvert_exporter": "python",
   "pygments_lexer": "ipython3",
   "version": "3.7.3"
  }
 },
 "nbformat": 4,
 "nbformat_minor": 2
}
