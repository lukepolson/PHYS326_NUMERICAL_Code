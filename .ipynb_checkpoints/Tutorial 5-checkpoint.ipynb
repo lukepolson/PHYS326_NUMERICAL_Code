{
 "cells": [
  {
   "cell_type": "markdown",
   "metadata": {},
   "source": [
    "# Tutorial"
   ]
  },
  {
   "cell_type": "markdown",
   "metadata": {},
   "source": [
    "See https://lukepolson.github.io/PHYS326_NUMERICAL/05-tutorial5/index.html"
   ]
  },
  {
   "cell_type": "markdown",
   "metadata": {},
   "source": [
    "## Question 1"
   ]
  },
  {
   "cell_type": "markdown",
   "metadata": {},
   "source": [
    "A Li atom is placed in a potential $V_{\\text{ext}}(\\vec{r}) = V_0 \\left(\\frac{z}{a}\\right)^2 $ at a position $\\vec{r} =  (a/2, a/2, a)$. Plot a 2D color graph of the magntiude of the potential in the $xy$ plane for $x \\in [-a, a]$ and $y \\in [-a, a]$"
   ]
  },
  {
   "cell_type": "code",
   "execution_count": null,
   "metadata": {},
   "outputs": [],
   "source": []
  }
 ],
 "metadata": {
  "kernelspec": {
   "display_name": "Python 3",
   "language": "python",
   "name": "python3"
  },
  "language_info": {
   "codemirror_mode": {
    "name": "ipython",
    "version": 3
   },
   "file_extension": ".py",
   "mimetype": "text/x-python",
   "name": "python",
   "nbconvert_exporter": "python",
   "pygments_lexer": "ipython3",
   "version": "3.7.3"
  }
 },
 "nbformat": 4,
 "nbformat_minor": 2
}
