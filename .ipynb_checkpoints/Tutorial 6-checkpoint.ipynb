{
 "cells": [
  {
   "cell_type": "markdown",
   "metadata": {},
   "source": [
    "# Tutorial\n",
    "\n",
    "See https://lukepolson.github.io/PHYS326_NUMERICAL/06-tutorial6/index.html"
   ]
  },
  {
   "cell_type": "markdown",
   "metadata": {},
   "source": [
    "Consider a current loop with current $I$ given by $z=0$, $x=a\\cos\\theta$ and $y = a \\sin\\theta$ travelling in the standard counter-clockwise position in the $xy$ plane. \n",
    "\n",
    "## Question 1\n",
    "a) Plot $B_x$ and $B_y$ on the planes $z=-a/2$, $z=-a/4$, $z=a/4$ and $z=a/2$. Use a quiverplot. On the same axes, plot a heatplot of $B_z$. Are the results consistent with Griffiths Figure 5.55 for a \"Physical\" dipole?"
   ]
  },
  {
   "cell_type": "code",
   "execution_count": null,
   "metadata": {},
   "outputs": [],
   "source": []
  },
  {
   "cell_type": "markdown",
   "metadata": {},
   "source": [
    "## Question 2\n",
    "b) Make a streamplot of $B_x$ and $B_z$ in the plane $y=0$ for $x \\in [-2a, 2a]$ and $z \\in [-2a, 2a]$."
   ]
  },
  {
   "cell_type": "code",
   "execution_count": null,
   "metadata": {},
   "outputs": [],
   "source": []
  }
 ],
 "metadata": {
  "kernelspec": {
   "display_name": "Python 3",
   "language": "python",
   "name": "python3"
  },
  "language_info": {
   "codemirror_mode": {
    "name": "ipython",
    "version": 3
   },
   "file_extension": ".py",
   "mimetype": "text/x-python",
   "name": "python",
   "nbconvert_exporter": "python",
   "pygments_lexer": "ipython3",
   "version": "3.7.3"
  }
 },
 "nbformat": 4,
 "nbformat_minor": 2
}
