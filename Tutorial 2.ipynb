{
 "cells": [
  {
   "cell_type": "markdown",
   "metadata": {},
   "source": [
    "# Tutorial 2"
   ]
  },
  {
   "cell_type": "markdown",
   "metadata": {},
   "source": [
    "See https://lukepolson.github.io/PHYS326_NUMERICAL/02-tutorial2/index.html"
   ]
  },
  {
   "cell_type": "markdown",
   "metadata": {},
   "source": [
    "Consider a uniform line-charge distribution parametetrized by $\\theta$ with total charge $Q$ located at\n",
    "\n",
    "$$\\vec{r} = (R\\cos(2\\theta), R\\sin(2\\theta), R\\theta)$$\n",
    "\n",
    "for $-\\pi \\leq \\theta \\leq \\pi$. This represents a ''spring'' of charge of with total $Q$. "
   ]
  },
  {
   "cell_type": "markdown",
   "metadata": {},
   "source": [
    "## Question 1\n",
    "Plot the potential along the $x$ axis for $x:2R \\to 10R$."
   ]
  },
  {
   "cell_type": "code",
   "execution_count": null,
   "metadata": {},
   "outputs": [],
   "source": []
  },
  {
   "cell_type": "markdown",
   "metadata": {},
   "source": [
    "## Question 2\n",
    "For the region $x:100R \\to 110R$, fit the potential to the curve $f(x;a)=\\frac{a}{x/R}$. What value of $a$ do you get? Then, using this value of $a$, plot $V(x\\hat{x})$ and $f(x;a)$ on the same plot in \n",
    "\n",
    "* the region $x:2R \\to 5R$.\n",
    "* the region $x:200R \\to 210R$"
   ]
  },
  {
   "cell_type": "code",
   "execution_count": null,
   "metadata": {},
   "outputs": [],
   "source": []
  },
  {
   "cell_type": "markdown",
   "metadata": {},
   "source": [
    "## Question 3\n",
    "Using your fit value for $a$, re-express the formula for $V(x\\hat{x})$. Compare it to the formula for the potential $V(x \\hat{x})$ for a point charge at the origin. Does this look familiar? Why is this the case? Comment on why, in question 2, the fit better extrapolates to the region $x:200R \\to 210R$ than to the region $x:2R \\to 5R$."
   ]
  },
  {
   "cell_type": "code",
   "execution_count": null,
   "metadata": {},
   "outputs": [],
   "source": []
  }
 ],
 "metadata": {
  "kernelspec": {
   "display_name": "Python 3",
   "language": "python",
   "name": "python3"
  },
  "language_info": {
   "codemirror_mode": {
    "name": "ipython",
    "version": 3
   },
   "file_extension": ".py",
   "mimetype": "text/x-python",
   "name": "python",
   "nbconvert_exporter": "python",
   "pygments_lexer": "ipython3",
   "version": "3.7.3"
  }
 },
 "nbformat": 4,
 "nbformat_minor": 2
}
