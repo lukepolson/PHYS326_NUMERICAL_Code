{
 "cells": [
  {
   "cell_type": "markdown",
   "metadata": {},
   "source": [
    "# Tutorial"
   ]
  },
  {
   "cell_type": "markdown",
   "metadata": {},
   "source": [
    "See https://lukepolson.github.io/PHYS326_NUMERICAL/03-tutorial3/index.html"
   ]
  },
  {
   "cell_type": "markdown",
   "metadata": {},
   "source": [
    "## Question 1: Special Functions in Python"
   ]
  },
  {
   "cell_type": "markdown",
   "metadata": {},
   "source": [
    "Throughout your studies in physics, many special functions will be encountered. These include things like the legendre, laguerre, and hermite polynomials. While it is possible to look these up in a table and copy them into python, scipy has these polynomials already coded up."
   ]
  },
  {
   "cell_type": "markdown",
   "metadata": {},
   "source": [
    "### Example: Hermite Polynomials"
   ]
  },
  {
   "cell_type": "markdown",
   "metadata": {},
   "source": [
    "Recall from PHYS 215 that wavefunctions for the harmonic oscillator can be written as \n",
    "\n",
    "$$\\psi_n(x) = \\left(\\frac{m\\omega}{\\pi \\hbar}\\right)^{1/4}\\frac{1}{\\sqrt{2^nn!}}H_n(\\xi)e^{-\\xi^2/2} $$\n",
    "\n",
    "where $\\xi=\\sqrt{m\\omega/\\hbar} x$ and $H_n$ are the Hermite polynomials. Plot $\\psi_0$, $\\psi_1$, $\\psi_2$, $\\psi_4$, and $\\psi_8$ as a function of $\\xi$"
   ]
  },
  {
   "cell_type": "code",
   "execution_count": null,
   "metadata": {},
   "outputs": [],
   "source": []
  },
  {
   "cell_type": "markdown",
   "metadata": {},
   "source": [
    "## Question 2: Bar Plots in Python"
   ]
  },
  {
   "cell_type": "markdown",
   "metadata": {},
   "source": [
    "For this part of the tutorial, we will consider example 3.4 in Griffiths E&M: suppose, however, that $b=2a$ so that the potential everywhere becomes \n",
    "\n",
    "$$V(x,y) = \\frac{4V_0}{\\pi} \\sum_{n=1,3,5,...} \\frac{1}{n}\\frac{\\cosh(n \\pi x/a)}{\\cosh(2 n \\pi)} \\sin(n \\pi y / a)  $$\n",
    "\n",
    "we can define the nth term in this sum as \n",
    "\n",
    "$$V_n(x,y) = \\frac{4V_0}{\\pi} \\frac{1}{n}\\frac{\\cosh(n \\pi x/a)}{\\cosh(2 n \\pi)} \\sin(n \\pi y / a) $$\n",
    "\n",
    "Consider the point $\\vec{r}=(a,a/3,0)$. Make a bar plot of $V_n$ vs. $n$ for $n$ in the range 1 to 33 to show how quickly the terms decay. Use a semilogy axis and only consider odd $n$ (as even $n$ terms are equal to zero)."
   ]
  },
  {
   "cell_type": "markdown",
   "metadata": {},
   "source": [
    "Note that the terms decay **very** quickly, but differently depending on the point you are situated at."
   ]
  },
  {
   "cell_type": "code",
   "execution_count": null,
   "metadata": {},
   "outputs": [],
   "source": []
  }
 ],
 "metadata": {
  "kernelspec": {
   "display_name": "Python 3",
   "language": "python",
   "name": "python3"
  },
  "language_info": {
   "codemirror_mode": {
    "name": "ipython",
    "version": 3
   },
   "file_extension": ".py",
   "mimetype": "text/x-python",
   "name": "python",
   "nbconvert_exporter": "python",
   "pygments_lexer": "ipython3",
   "version": "3.7.3"
  }
 },
 "nbformat": 4,
 "nbformat_minor": 2
}
